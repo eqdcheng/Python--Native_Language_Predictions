{
 "cells": [
  {
   "cell_type": "markdown",
   "metadata": {},
   "source": [
    "## Lab4"
   ]
  },
  {
   "cell_type": "markdown",
   "metadata": {},
   "source": [
    "## Preparation"
   ]
  },
  {
   "cell_type": "code",
   "execution_count": 1,
   "metadata": {},
   "outputs": [
    {
     "name": "stderr",
     "output_type": "stream",
     "text": [
      "[nltk_data] Downloading package cmudict to /Users/eun-\n",
      "[nltk_data]     youngchristinapark/nltk_data...\n",
      "[nltk_data]   Package cmudict is already up-to-date!\n",
      "[nltk_data] Downloading package wordnet to /Users/eun-\n",
      "[nltk_data]     youngchristinapark/nltk_data...\n",
      "[nltk_data]   Package wordnet is already up-to-date!\n",
      "[nltk_data] Downloading package punkt to /Users/eun-\n",
      "[nltk_data]     youngchristinapark/nltk_data...\n",
      "[nltk_data]   Package punkt is already up-to-date!\n",
      "[nltk_data] Downloading package averaged_perceptron_tagger to\n",
      "[nltk_data]     /Users/eun-youngchristinapark/nltk_data...\n",
      "[nltk_data]   Package averaged_perceptron_tagger is already up-to-\n",
      "[nltk_data]       date!\n",
      "[nltk_data] Downloading package universal_tagset to /Users/eun-\n",
      "[nltk_data]     youngchristinapark/nltk_data...\n",
      "[nltk_data]   Package universal_tagset is already up-to-date!\n"
     ]
    },
    {
     "data": {
      "text/plain": [
       "True"
      ]
     },
     "execution_count": 1,
     "metadata": {},
     "output_type": "execute_result"
    }
   ],
   "source": [
    "import nltk\n",
    "from nltk.corpus import cmudict\n",
    "from nltk.stem import WordNetLemmatizer\n",
    "from nltk import word_tokenize, pos_tag, RegexpTagger, UnigramTagger\n",
    "import re\n",
    "import lxml\n",
    "import lxml.etree\n",
    "from bs4 import BeautifulSoup\n",
    "from urllib.request import urlopen\n",
    "import os\n",
    "from collections import defaultdict\n",
    "from zipfile import ZipFile\n",
    "from nltk.stem import WordNetLemmatizer\n",
    "\n",
    "from sklearn.feature_extraction import DictVectorizer\n",
    "from sklearn.tree import DecisionTreeClassifier\n",
    "from sklearn.metrics import accuracy_score\n",
    "from collections import defaultdict\n",
    "from sklearn.ensemble import RandomForestClassifier \n",
    "from lightgbm.sklearn import LGBMClassifier\n",
    "from catboost import CatBoostClassifier\n",
    "import numpy as np\n",
    "\n",
    "nltk.download(\"cmudict\")\n",
    "nltk.download('wordnet')\n",
    "nltk.download('punkt')\n",
    "nltk.download('averaged_perceptron_tagger')\n",
    "nltk.download('universal_tagset')"
   ]
  },
  {
   "cell_type": "code",
   "execution_count": 2,
   "metadata": {},
   "outputs": [],
   "source": [
    "def read_txt_file(input_file, delimiter = '\\n', mode = 0):\n",
    "    ''' This function reads a textfile and creates a list from the content.\n",
    "    Argument:\n",
    "    --------\n",
    "    input_file: location of the text file.\n",
    "    delimiter: delimiter used to create the list\n",
    "    mode: 0 to get the content of the file as a list.\n",
    "          1 to get the number of items in the file broken by the delimiter\n",
    "\n",
    "    Returns:\n",
    "    --------\n",
    "    if mode == 0, returns the content of the file as a list delimited by the delimiter.\n",
    "       mode == 1, returns the length of the file delimited by the delimiter\n",
    "    '''\n",
    "    \n",
    "    f = open(input_file)\n",
    "    file_content = f.read()\n",
    "    f.close()\n",
    "    \n",
    "    if mode == 1:\n",
    "        return len(file_content.split(delimiter))\n",
    "    return file_content.split(delimiter)"
   ]
  },
  {
   "cell_type": "code",
   "execution_count": 3,
   "metadata": {},
   "outputs": [
    {
     "name": "stdout",
     "output_type": "stream",
     "text": [
      "success!\n"
     ]
    }
   ],
   "source": [
    "assert read_txt_file('data/testfile.txt') == ['Sunday', 'Monday', 'Tuesday', 'Wednesday', 'Thursday', 'Friday', 'Saturday']\n",
    "assert read_txt_file('data/testfile.txt',mode = 1) == 7\n",
    "print('success!')"
   ]
  },
  {
   "cell_type": "code",
   "execution_count": 5,
   "metadata": {},
   "outputs": [],
   "source": [
    "############################################ Global Variables ##################################################\n",
    "zip_file = './data/lang-8.zip'\n",
    "data_directory = './data/'\n",
    "lang_8_directory = 'lang-8/'\n",
    "train_txt = 'train.txt'\n",
    "test_txt = 'test.txt'\n",
    "dev_txt = 'dev.txt'\n",
    "\n",
    "european_cities = 'data/european_cities.txt'\n",
    "asian_cities = 'data/asian_cities.txt'\n",
    "european_food = 'data/european_food.txt'\n",
    "asian_food = 'data/asian_food.txt'\n",
    "european_culture = 'data/european_culture.txt'\n",
    "asian_culture = 'data/asian_culture.txt'\n",
    "european_language_set = {'spanish','french'}\n",
    "special_non_alpha_set = {'~', '-', ';', '^', '*', '<', '>', '+', '_'}\n",
    "\n",
    "European = set(read_txt_file(european_cities)) | set(read_txt_file(european_food)) | set(read_txt_file(european_culture))\n",
    "Asian = set(read_txt_file(asian_cities)) | set(read_txt_file(asian_food)) | set(read_txt_file(asian_culture))\n",
    "\n",
    "vowels = {\"a\",\"e\",\"i\",\"o\",\"u\",\"y\"}\n",
    "p_dict = cmudict.dict() \n",
    "\n",
    "lemmatizer= WordNetLemmatizer()\n",
    "\n",
    "#### Added on Dec 11 \n",
    "irreg_pp_list = read_txt_file('data/irreg_pp.txt')\n",
    "regex_perfect_as = '^((have|has|had)\\s(not\\s)?|haven\\'t\\s|hasn\\'t\\s|hadn\\'t\\s)([a-z]+[^e](ed|en)'\n",
    "for w in irreg_pp_list:\n",
    "    regex_perfect_as = regex_perfect_as + '|' + w\n",
    "regex_perfect_as = regex_perfect_as + ')$'\n",
    "\n",
    "#### For reading files ########\n",
    "READ_FROM_DIR = 0\n",
    "READ_FROM_ZIP = 1\n",
    "READ_CONTENT = 0\n",
    "READ_NUM = 1\n",
    "MODE_TRAIN = 0\n",
    "MODE_VALID = 1 \n",
    "DECISION_TREE = 0\n",
    "RANDOM_FOREST = 1\n",
    "LGBM = 2\n",
    "CATBOOST = 3"
   ]
  },
  {
   "cell_type": "markdown",
   "metadata": {},
   "source": [
    "## Part 1: Construct HTML files and raw data"
   ]
  },
  {
   "cell_type": "code",
   "execution_count": 6,
   "metadata": {},
   "outputs": [],
   "source": [
    "def get_html_file(text_file_name):\n",
    "    ''' This function sets up the reading of the input file.\n",
    "    This function assumes that the html files are stored in the ./data/lang-8.zip file.\n",
    "\n",
    "    Argument:\n",
    "    ---------\n",
    "    text_file_name: indicates the text file which contains the names of html files.\n",
    "\n",
    "    Returns:\n",
    "    --------\n",
    "    the filename of the html file\n",
    "    '''\n",
    "    \n",
    "    f = open(data_directory + text_file_name, \"r\")\n",
    "    contents = f.read()\n",
    "    f.close()\n",
    "    file_list = contents.split('\\n')\n",
    "    \n",
    "    for filename in file_list:\n",
    "        yield filename\n",
    "        \n",
    "def get_raw_data(g, mode = READ_FROM_ZIP):\n",
    "    ''' This function returns the native language and the raw text of the html file.\n",
    "    This function assumes that the html files are stored in the ./data/lang-8/ directory.\n",
    "\n",
    "    Argument:\n",
    "    ---------\n",
    "    None\n",
    "\n",
    "    Returns:\n",
    "    --------\n",
    "    the filename of the html file, the native language of the writer and the raw text of the html file\n",
    "    '''\n",
    "    \n",
    "    filename = next(g)\n",
    "    file_location = lang_8_directory + filename\n",
    "    \n",
    "    if mode == 1:\n",
    "        my_zip = ZipFile(zip_file)\n",
    "        filepg = BeautifulSoup(my_zip.open(file_location), 'lxml')\n",
    "    else:\n",
    "        file_location = data_directory + file_location\n",
    "        filepg = BeautifulSoup(open(file_location), 'lxml')\n",
    "\n",
    "    for div in filepg.find_all('div'):\n",
    "        if 'id' in div.attrs and div['id'] == 'body_show_ori':\n",
    "            raw_text = div.get_text().replace('\\n',' ')\n",
    "            break\n",
    "    \n",
    "    \n",
    "    for node in filepg.find_all('li'):\n",
    "        if 'title' in node.attrs and node['title'] == 'Native language':\n",
    "            native_language = node.get_text()\n",
    "            break\n",
    "    \n",
    "    return (filename, native_language, raw_text)"
   ]
  },
  {
   "cell_type": "code",
   "execution_count": 7,
   "metadata": {},
   "outputs": [
    {
     "name": "stdout",
     "output_type": "stream",
     "text": [
      "193455.html\n",
      "Russian\n",
      " Mei name is Tatjana/ I from Russia. I live in Uljanovsk. \n"
     ]
    }
   ],
   "source": [
    "g = get_html_file(train_txt)\n",
    "filename, native_language, raw_text = get_raw_data(g)\n",
    "print(filename)\n",
    "print(native_language)\n",
    "print(raw_text)"
   ]
  },
  {
   "cell_type": "markdown",
   "metadata": {},
   "source": [
    "## Part 2: Feature Extraction\n",
    "\n",
    "The features that our team have created and tests for each feature extraction functions are as follows. A function for constructing a list of dictionaries for features are at the bottom of this section."
   ]
  },
  {
   "cell_type": "markdown",
   "metadata": {},
   "source": [
    "### 2.1 Feature extraction functions"
   ]
  },
  {
   "cell_type": "code",
   "execution_count": 8,
   "metadata": {},
   "outputs": [],
   "source": [
    "def get_lex_density(pos_list):\n",
    "    \"\"\"Calculate lexical density of a text by total number of open class\n",
    "    divided by the number of words in the text\n",
    "\n",
    "    Parameters\n",
    "    ----------\n",
    "    pos_list : list\n",
    "        a list of tuples of (word, pos)\n",
    "\n",
    "    Returns\n",
    "    -------\n",
    "    float\n",
    "        lexical density of a given text\n",
    "    \"\"\"\n",
    "    \n",
    "    open_class_pos = {\"NOUN\", \"VERB\", \"ADJ\", \"ADV\", \"PROPN\"}\n",
    "    open_class_total = 0\n",
    "\n",
    "    for word, pos in pos_list:\n",
    "        if pos in open_class_pos:\n",
    "            open_class_total += 1\n",
    "    \n",
    "    return open_class_total / len(pos_list)"
   ]
  },
  {
   "cell_type": "code",
   "execution_count": 9,
   "metadata": {},
   "outputs": [],
   "source": [
    "# this function is for tests\n",
    "\n",
    "def get_pos_tag(text):\n",
    "    '''Get a pos-tagged list of a given text'''\n",
    "    return pos_tag(word_tokenize(text), tagset=\"universal\")"
   ]
  },
  {
   "cell_type": "code",
   "execution_count": 10,
   "metadata": {},
   "outputs": [
    {
     "name": "stdout",
     "output_type": "stream",
     "text": [
      "success!\n"
     ]
    }
   ],
   "source": [
    "text1 = \"I have a cat.\"\n",
    "text2 = \"I have to get a cat that has beautiful fur.\"\n",
    "\n",
    "assert get_lex_density(get_pos_tag(text1)) == 0.4\n",
    "assert get_lex_density(get_pos_tag(text2)) > get_lex_density(get_pos_tag(text1))\n",
    "print(\"success!\")"
   ]
  },
  {
   "cell_type": "code",
   "execution_count": 11,
   "metadata": {},
   "outputs": [],
   "source": [
    "def get_adj_ratio(pos_list):\n",
    "    \"\"\"Calculate a ratio of the number of adjectives\n",
    "    to the number of words in a given text\n",
    "\n",
    "    Parameters\n",
    "    ----------\n",
    "    pos_list : list\n",
    "        a list of tuples of (word, pos)\n",
    "\n",
    "    Returns\n",
    "    -------\n",
    "    float\n",
    "        a ratio of adjectives to the number of words in the text\n",
    "    \"\"\"\n",
    "    \n",
    "    adj_freq = 0\n",
    "    \n",
    "    for word, pos in pos_list:\n",
    "        \n",
    "        if pos == \"ADJ\":\n",
    "            adj_freq += 1\n",
    "    \n",
    "    return adj_freq / len(pos_list)"
   ]
  },
  {
   "cell_type": "code",
   "execution_count": 12,
   "metadata": {},
   "outputs": [
    {
     "name": "stdout",
     "output_type": "stream",
     "text": [
      "success!\n"
     ]
    }
   ],
   "source": [
    "text1 = \"I have a beautiful cat\"\n",
    "text2 = \"I have a pen\"\n",
    "\n",
    "assert get_adj_ratio(get_pos_tag(text1)) == 0.2\n",
    "assert get_adj_ratio(get_pos_tag(text2)) == 0\n",
    "print(\"success!\")"
   ]
  },
  {
   "cell_type": "code",
   "execution_count": 13,
   "metadata": {},
   "outputs": [],
   "source": [
    "def get_ratio_det_noun(pos_list):\n",
    "    \"\"\"Calculate a ratio of combinations of determinant-noun to \n",
    "    the number of words in a give text. For simplicity, this considers\n",
    "    only two cases: \"(PRON|DET) NOUN\" or \"(PRON|DET) ADJ NOUN\".\n",
    "\n",
    "    Parameters\n",
    "    ----------\n",
    "    pos_list : list\n",
    "        a list of tuples of (word, pos)\n",
    "\n",
    "    Returns\n",
    "    -------\n",
    "    float\n",
    "        a ratio of combinations of determinant-noun to the number of words in the text\n",
    "    \"\"\"\n",
    "    total_det_noun = 0\n",
    "    det_set = {\"PRON\", \"DET\"}\n",
    "    i = 0\n",
    "    for word, pos in pos_list:\n",
    "        if pos == \"NOUN\" and i > 1 and pos_list[i-1][1] in det_set: # for the case such as \"a dog\"\n",
    "            total_det_noun += 1\n",
    "        elif pos == \"NOUN\" and i > 2 and pos_list[i-2][1] in det_set: # for the case such as \"a good dog\"\n",
    "            total_det_noun += 1\n",
    "            \n",
    "        i += 1\n",
    "    \n",
    "    return total_det_noun / len(pos_list)"
   ]
  },
  {
   "cell_type": "code",
   "execution_count": 14,
   "metadata": {},
   "outputs": [
    {
     "name": "stdout",
     "output_type": "stream",
     "text": [
      "success!\n"
     ]
    }
   ],
   "source": [
    "text1 = \"He has a dog\"\n",
    "text2 = \"He has dog\"\n",
    "text3 = \"He has a good dog\"\n",
    "\n",
    "assert get_ratio_det_noun(get_pos_tag(text1)) > get_ratio_det_noun(get_pos_tag(text2))\n",
    "assert get_ratio_det_noun(get_pos_tag(text3)) == 1/5\n",
    "print(\"success!\")"
   ]
  },
  {
   "cell_type": "code",
   "execution_count": 15,
   "metadata": {},
   "outputs": [],
   "source": [
    "def is_adj_noun(pos_list):\n",
    "    \"\"\"Check if an adjective is prior to a noun in a given text\n",
    "\n",
    "    Parameters\n",
    "    ----------\n",
    "    pos_list : list\n",
    "        a list of tuples of (word, pos)\n",
    "\n",
    "    Returns\n",
    "    -------\n",
    "    bool\n",
    "        return true if an adjective is prior to a noun\n",
    "        return false if otherwise\n",
    "    \"\"\"\n",
    "    \n",
    "    i = 0\n",
    "    for word, pos in pos_list:\n",
    "        if pos == \"ADJ\" and i < len(pos_list) -1:\n",
    "            if pos_list[i+1][1] == \"NOUN\":\n",
    "                return True\n",
    "        i += 1\n",
    "        \n",
    "    return False"
   ]
  },
  {
   "cell_type": "code",
   "execution_count": 16,
   "metadata": {},
   "outputs": [
    {
     "name": "stdout",
     "output_type": "stream",
     "text": [
      "success!\n"
     ]
    }
   ],
   "source": [
    "text1 = \"Hello I got a pencil red\"\n",
    "text2 = \"Hello I got a red pencil\"\n",
    "text3 = \"This is a cool lab\"\n",
    "\n",
    "assert not is_adj_noun(get_pos_tag(text1))\n",
    "assert is_adj_noun(get_pos_tag(text2))\n",
    "assert is_adj_noun(get_pos_tag(text3))\n",
    "print(\"success!\")"
   ]
  },
  {
   "cell_type": "code",
   "execution_count": 17,
   "metadata": {},
   "outputs": [],
   "source": [
    "def get_ratio_special_non_alpha(text):\n",
    "    \"\"\"Calculate a ratio of the number of special non alphanumeric characters\n",
    "    over the length of a given text. \"Special non alphanumeric characters\" are \n",
    "    a set of characters that are often used to create text emoticons in many Eastern Asian culture.\n",
    "\n",
    "    Parameters\n",
    "    ----------\n",
    "    text : str\n",
    "        a string of a text\n",
    "\n",
    "    Returns\n",
    "    -------\n",
    "    float\n",
    "        a ratio of the number of special non alphanumeric characters\n",
    "        over the length of a given text\n",
    "    \"\"\"\n",
    "    count_non_alpha = 0\n",
    "    for char in text:\n",
    "        if char in special_non_alpha_set:\n",
    "            count_non_alpha += 1\n",
    "    \n",
    "    return count_non_alpha / len(text)"
   ]
  },
  {
   "cell_type": "code",
   "execution_count": 18,
   "metadata": {},
   "outputs": [
    {
     "name": "stdout",
     "output_type": "stream",
     "text": [
      "success!\n"
     ]
    }
   ],
   "source": [
    "text1 = \"Hi~~~ The weather is so nice ^^ I want to have some coffee +_+ Yesterday was raining all day T_T\"\n",
    "text2 = \"Hi the weather is so nice, I want to have some coffee! Yesterday was raining all day.\"\n",
    "\n",
    "assert get_ratio_special_non_alpha(text1) > get_ratio_special_non_alpha(text2)\n",
    "assert not get_ratio_special_non_alpha(text2)\n",
    "print(\"success!\")"
   ]
  },
  {
   "cell_type": "code",
   "execution_count": 20,
   "metadata": {},
   "outputs": [],
   "source": [
    "#SYLLABLE DIV LENGTH OF SENTENCE\n",
    "def syl_div_length(text):\n",
    "    '''use CMU dict (p_dict) to count the number of syllables in word,\n",
    "    default to number of vowels, then divides by the number of periods in the text\n",
    "    Input\n",
    "    -----\n",
    "        text: str\n",
    "    Returns\n",
    "    ------- \n",
    "        Int: number indicating the result\n",
    "    '''\n",
    "    length_of_sentence = len(text)\n",
    "    text = text.lower()\n",
    "    # text_list = text.split(\" \")\n",
    "    #or I could count number of periods instead, as the number of sentences?\n",
    "    syllable_count = 0\n",
    "    if text in p_dict:\n",
    "        for phone in p_dict[text][0]:\n",
    "            if phone[-1].isdigit():\n",
    "                syllable_count += 1\n",
    "    else:\n",
    "        for letter in text:\n",
    "            if letter in vowels:\n",
    "                syllable_count += 1\n",
    "    return (syllable_count / length_of_sentence)\n",
    "# syl_div_length(\"hello I am Bob\")\n",
    "\n",
    "assert(syl_div_length(\"hello I am Bob\") == 5/len(\"hello I am Bob\"))\n",
    "assert(syl_div_length(\"hello I am Bob\") != 20/len(\"hello I am Bob\"))\n",
    "assert(syl_div_length(\"hi there I am Bob\") == 6/len(\"hi there I am Bob\"))\n",
    "assert(syl_div_length(\"Bob\") == 1/len(\"Bob\"))"
   ]
  },
  {
   "cell_type": "code",
   "execution_count": 21,
   "metadata": {},
   "outputs": [],
   "source": [
    "def sentence_completeness_boolean_revised(pos_list):\n",
    "    '''Checking if there are equal or more nouns to verbs in the input text\n",
    "    Input\n",
    "    -----\n",
    "    pos_list : list\n",
    "        a list of tuples of (word, pos)\n",
    "    Returns\n",
    "    ------- \n",
    "        Boolean: True of False\n",
    "    '''\n",
    "    verb_count = 0\n",
    "    noun_count = 0 \n",
    "    for word, pos in pos_list:\n",
    "        if pos == \"NOUN\" or pos == \"PRON\":\n",
    "            noun_count += 1\n",
    "        if pos == \"VERB\":\n",
    "            verb_count += 1\n",
    "    if noun_count > 0 and verb_count > 0 and noun_count / verb_count > 1:\n",
    "        return True\n",
    "    else: \n",
    "        return False\n",
    "\n",
    "assert(sentence_completeness_boolean_revised(get_pos_tag(\"hello I am Bob\")) == True)\n",
    "assert(sentence_completeness_boolean_revised(get_pos_tag(\"Bob Bob\")) != True)\n",
    "assert(sentence_completeness_boolean_revised(get_pos_tag(\"He ate the\")) != True)\n",
    "assert(sentence_completeness_boolean_revised(get_pos_tag(\"I\")) != True)\n",
    "assert(sentence_completeness_boolean_revised(get_pos_tag(\"I ran sat outside\")) == True)"
   ]
  },
  {
   "cell_type": "code",
   "execution_count": 22,
   "metadata": {},
   "outputs": [],
   "source": [
    "#NUM OF NOUNS&PRON / VERBS\n",
    "def sentence_completeness_ratio(pos_list):\n",
    "    '''Dividing the number of nouns/pronouns by verb. Starting at 1 to avoid division errors.\n",
    "    The scaling won't affect our decision trees as DTs are not affected by scaling.\n",
    "    Input\n",
    "    -----\n",
    "    pos_list : list\n",
    "        a list of tuples of (word, pos)\n",
    "    Returns\n",
    "    ------- \n",
    "        Int: number dividing nouns/verbs\n",
    "    '''\n",
    "    verb_count = 1\n",
    "    noun_count = 1 \n",
    "    #starting at 1 for both, because of division of zero errors \n",
    "    for word, pos in pos_list:\n",
    "        if pos == \"NOUN\":\n",
    "            noun_count += 1\n",
    "        if pos == \"PRON\":\n",
    "            noun_count +=1\n",
    "        elif pos == \"VERB\":\n",
    "            verb_count += 1\n",
    "    return noun_count / verb_count\n",
    "\n",
    "assert(sentence_completeness_ratio(get_pos_tag(\"I am Bob\")) == 3/2)\n",
    "assert(sentence_completeness_ratio(get_pos_tag(\"I am Bob the plant\")) == 3/2)\n",
    "assert(sentence_completeness_ratio(get_pos_tag(\"I ate the food\")) == 3/2)\n",
    "assert(sentence_completeness_ratio(get_pos_tag(\"I\")) == 2/1)"
   ]
  },
  {
   "cell_type": "code",
   "execution_count": 23,
   "metadata": {},
   "outputs": [],
   "source": [
    "def lemm_text_matching(text):\n",
    "    '''Lemmatize input string to see whether the input sentence is in\n",
    "    lemmatized form\n",
    "    Input\n",
    "    -----\n",
    "        text: str\n",
    "    Returns\n",
    "    ------- \n",
    "        Boolean: True if it completely matches the root forms of each word\n",
    "    '''\n",
    "    word_list = nltk.word_tokenize(text)\n",
    "    # print(word_list)\n",
    "    lemmas = ' '.join([lemmatizer.lemmatize(w) for w in word_list])\n",
    "    # print(lemmas)\n",
    "    # print(text)\n",
    "    # #' '.join\n",
    "    if lemmas.lower() == text.lower():\n",
    "        return True\n",
    "    else:\n",
    "        return False\n",
    "# lemm_text_matching(\"I like using the reds pencils\")\n",
    "assert(lemm_text_matching(\"I like using the reds pencils\") == False)\n",
    "assert(lemm_text_matching(\"I like using the red pencils\") == False)\n",
    "assert(lemm_text_matching(\"I like using the red pencil\") == True)\n",
    "assert(lemm_text_matching(\"I likeds thes red pencil\") == True)\n",
    "assert(lemm_text_matching(\"He has eating the food\") == False)"
   ]
  },
  {
   "cell_type": "code",
   "execution_count": 25,
   "metadata": {},
   "outputs": [
    {
     "name": "stdout",
     "output_type": "stream",
     "text": [
      "success!\n"
     ]
    }
   ],
   "source": [
    "def type_token_ratio(text):\n",
    "    '''calculate type-token ratio from the raw text \n",
    "    Argument:\n",
    "    --------\n",
    "    raw_text: a string of text\n",
    "    '''\n",
    "    words = word_tokenize(text)\n",
    "    num_words = len(words)\n",
    "\n",
    "    types = set([word.lower() for word in words[:num_words]])\n",
    "\n",
    "    return len(types)/num_words\n",
    "\n",
    "\n",
    "text2 = \"Hello Hello Hello\"\n",
    "text3 = \"This is a cool lab\"\n",
    "\n",
    "assert type_token_ratio(text2) == 1/3\n",
    "assert type_token_ratio(text3) == 1.0 \n",
    "print('success!')"
   ]
  },
  {
   "cell_type": "code",
   "execution_count": 26,
   "metadata": {},
   "outputs": [],
   "source": [
    "def get_freq_art(raw_text, mode = 0):\n",
    "    '''\n",
    "    This function returns the frequency of the articles in the given text.\n",
    "    Argument:\n",
    "    --------\n",
    "    raw_text: a string of text\n",
    "    mode: an optional parameter. If set to 1, it reutnrs the frequency of the articles in the text as well as the list of articles in the text.\n",
    "          If set to 0, it returns the frequency of the articles in the text only. \n",
    "          \n",
    "    Returns:\n",
    "    --------\n",
    "    If mode is set to 1, it reutnrs the frequency of the articles in the text as well as the list of articles in the text.\n",
    "    If mode is set to 0, it returns the frequency of the articles in the text only. \n",
    "    '''\n",
    "    token_text = word_tokenize(raw_text) \n",
    "    regex = r'^(a|an|des|du|de l\\'|de la|el|l\\'|la|le|las|les|los|un|una|unas|une|unos|the)$'\n",
    "\n",
    "    if len(token_text) == 0:\n",
    "        return\n",
    "    \n",
    "    num_articles = 0\n",
    "    list_articles = []\n",
    "    for t in token_text:\n",
    "        match = re.match(regex, t.lower())\n",
    "        if match:\n",
    "            num_articles +=1\n",
    "            list_articles.append(match.group())\n",
    "    \n",
    "    if mode == 1:\n",
    "        return(num_articles/len(token_text), list_articles)\n",
    "    return (num_articles/len(token_text))"
   ]
  },
  {
   "cell_type": "code",
   "execution_count": 27,
   "metadata": {},
   "outputs": [
    {
     "name": "stdout",
     "output_type": "stream",
     "text": [
      "success!\n"
     ]
    }
   ],
   "source": [
    "test_text = 'In it days of pascuas, we are celebrated : The December 21 that is the day of the Spirit of the Christmas, where the angel Gabriel celebrates the arrival to Maria. We celebrate it with it has dinner from friends and family, in this 21 desires are asked for the prime year and one writes a leaf bad what of the year that then burns to eliminate it of our lives.December 24 is the day that god celebrates the Christmas or the birth in of the child; in the mangers the figure of the child is placed after 12 of the night as sign of birth. December 28 is the Day of the Santos Inocentes, where jokes all are played, this date according to the Catholic Church is one pagan - religious celebrates since masses and festivals realize in commemoration of millions of children salted and dried 2009 years ago with the birth of the Messiah.December 31 is the typical festivity with the fireworks, the count is realized before the new year. In we have the tradition of 12 grapes of the time, this tradition it is necessary to eat 12 grapes before 12 a.m. and for every grape that commas you can a desire, that is to say, that have 12 desires in whole.My favorite taboo 31 with the growing up that if wearing yellow underwear have prosperity in the year, as is if after the 12 salts with a suitcase in the street and greet neighbors and give them the new year have many trips that year, and also the belief of thinking that if you have dollars and the passport in the year you will have prosperity in the year.'\n",
    "test_word = word_tokenize(test_text)\n",
    "assert get_freq_art(test_text) == (test_word.count('a') + test_word.count('A') + test_word.count('the') + test_word.count('The'))/len(test_word)\n",
    "assert get_freq_art('a') == 1\n",
    "assert get_freq_art('오늘은 목요일이다.') == 0\n",
    "assert get_freq_art('Today is Thursday.') == 0\n",
    "assert get_freq_art('Magic mirror on the wall, who is the fairest one of all?') == 1/7\n",
    "print('success!')"
   ]
  },
  {
   "cell_type": "code",
   "execution_count": 28,
   "metadata": {},
   "outputs": [],
   "source": [
    "def get_perfect_aspects(raw_text, mode = 0):\n",
    "    '''\n",
    "    This function returns the frequency of the articles in the given text.\n",
    "    Argument:\n",
    "    --------\n",
    "    raw_text: a string of text\n",
    "    mode: an optional parameter. If set to 1, it reutnrs the frequency of the articles in the text as well as the list of articles in the text.\n",
    "          If set to 0, it returns the frequency of the articles in the text only. \n",
    "          \n",
    "    Returns:\n",
    "    --------\n",
    "    If mode is set to 1, it reutnrs the frequency of the articles in the text as well as the list of articles in the text.\n",
    "    If mode is set to 0, it returns the frequency of the articles in the text only. \n",
    "    '''\n",
    "    \n",
    "    token_text = raw_text.split(' ')\n",
    "    if len(token_text) == 0:\n",
    "        return 0\n",
    "    \n",
    "    num_perfect_aspects = 0\n",
    "    list_perfect = []\n",
    "    for i in range(len(token_text)-2):\n",
    "        match2 = re.search(regex_perfect_as, token_text[i].lower() + ' ' + token_text[i+1].lower())\n",
    "        match3 = re.search(regex_perfect_as, token_text[i].lower() + ' ' + token_text[i+1].lower() + ' ' + token_text[i+2].lower())\n",
    "        if match2 or match3:\n",
    "            num_perfect_aspects +=1\n",
    "            list_perfect.append(match2.group() if match2 else match3.group())\n",
    "    \n",
    "    if mode == 1:\n",
    "        return(num_perfect_aspects/len(token_text), list_perfect)\n",
    "    return (num_perfect_aspects/len(token_text))"
   ]
  },
  {
   "cell_type": "code",
   "execution_count": 29,
   "metadata": {},
   "outputs": [
    {
     "name": "stdout",
     "output_type": "stream",
     "text": [
      "success!\n"
     ]
    }
   ],
   "source": [
    "assert get_perfect_aspects('I have not eaten lunch. I have eaten breakfast.') == 2/9\n",
    "assert get_perfect_aspects('I am going to eat lunch later.') == 0\n",
    "assert get_perfect_aspects('We haven\\'t finished the lab yet.') == 1/6\n",
    "assert get_perfect_aspects('You have been there.') == 1/4\n",
    "print('success!')"
   ]
  },
  {
   "cell_type": "code",
   "execution_count": 30,
   "metadata": {},
   "outputs": [],
   "source": [
    "def european_occurrences(raw_text):\n",
    "    '''\n",
    "    This function returns a value which indicates whether the text contains a European location or an Asian location.\n",
    "    Argument:\n",
    "    ---------\n",
    "    raw text: a string\n",
    "    \n",
    "    Returns:\n",
    "    --------- \n",
    "    0 if neither Asian or European location is mentioned.\n",
    "    1 if Asian location is mentioned.\n",
    "    2 if European location is mentioned.\n",
    "    3 if both Asian and European locations are mentioned.\n",
    "    '''\n",
    "\n",
    "    txt_set = set(word_tokenize(raw_text.lower()))\n",
    "    asian_occ = len(txt_set & Asian)\n",
    "    european_occ = len(txt_set & European)\n",
    "    \n",
    "    return((asian_occ > 0 ) + 2*(european_occ > 0))\n"
   ]
  },
  {
   "cell_type": "code",
   "execution_count": 31,
   "metadata": {},
   "outputs": [
    {
     "name": "stdout",
     "output_type": "stream",
     "text": [
      "success!\n"
     ]
    }
   ],
   "source": [
    "assert european_occurrences('I live in Canada.') == 0\n",
    "assert european_occurrences('I live in Beijing.') == 1\n",
    "assert european_occurrences('I live in Africa.') == 0\n",
    "assert european_occurrences('I live in Congo.') == 2\n",
    "assert european_occurrences('I have lived in Argentina and Korea.') == 3\n",
    "\n",
    "assert european_occurrences('I eat kimchi.') == 1\n",
    "assert european_occurrences('I eat dumpling.') == 1\n",
    "assert european_occurrences('I eat sushi.') == 1\n",
    "assert european_occurrences('I eat nachos.') == 2\n",
    "assert european_occurrences('I eat bread.') == 0\n",
    "assert european_occurrences('I eat dumpling and nachos.') == 3\n",
    "\n",
    "assert european_occurrences('I study philosophy.') == 0\n",
    "assert european_occurrences('I study Confucius.') == 1\n",
    "assert european_occurrences('I am a Roman Catholic.') == 2\n",
    "assert european_occurrences('I am a Roman Catholic and study Confucius') == 3\n",
    "print('success!')"
   ]
  },
  {
   "cell_type": "code",
   "execution_count": 32,
   "metadata": {},
   "outputs": [],
   "source": [
    "####################################################################################################################\n",
    "# Aknowledgement: This code is adopted directly from COLX 521 Lab 2. \n",
    "####################################################################################################################\n",
    "\n",
    "def get_syllables(word):\n",
    "    word = word.lower()\n",
    "    '''use CMU dict (p_dict) to count the number of syllables in word, default to number of vowels\n",
    "    Argument: \n",
    "    --------- \n",
    "    word: a string\n",
    "    \n",
    "    Returns:\n",
    "    -------------\n",
    "    count of syllables\n",
    "    \n",
    "    '''\n",
    "    syllable_count = 0\n",
    "    p_dict[word] = p_dict.get(word, '')\n",
    "    if p_dict[word] == '':\n",
    "        syllable_count = word.count('a') + word.count('e') + word.count('i')+ word.count('o')+ word.count('u')+ word.count('y')\n",
    "    else:\n",
    "        for ph in p_dict[word][0]:\n",
    "            if ph[-1].isdigit():\n",
    "                syllable_count += 1\n",
    "    return syllable_count\n",
    "\n",
    "\n",
    "####################################################################################################################\n",
    "# Aknowledgement: This code is adopted directly from COLX 521 Lab 2. \n",
    "####################################################################################################################\n",
    "\n",
    "def get_reading_ease(raw_text):\n",
    "    '''calculate the Flesh reading ease for a single sentence consisting of a list of words (strings)\n",
    "    Argument:\n",
    "    ---------\n",
    "    raw_text: a string\n",
    "    \n",
    "    Returns:\n",
    "    ---------\n",
    "    Flesh reading ease defined as in Lab 2\n",
    "    '''\n",
    "    # your code here\n",
    "    total_words = 0\n",
    "    total_syllables = 0\n",
    "\n",
    "    sentence = word_tokenize(raw_text)\n",
    "    for w in sentence:\n",
    "        if w.isalpha():\n",
    "            total_words += 1\n",
    "            total_syllables += get_syllables(w)\n",
    "    \n",
    "    reading_ease = 0 if total_words == 0 else 206.835 - 1.015 * total_words - 84.6 * (total_syllables / total_words)\n",
    "    return reading_ease"
   ]
  },
  {
   "cell_type": "code",
   "execution_count": 33,
   "metadata": {},
   "outputs": [
    {
     "name": "stdout",
     "output_type": "stream",
     "text": [
      "success!\n"
     ]
    }
   ],
   "source": [
    "text_string1 = ' '.join([\"I\", \"am\", \"done\", \",\",\"man\"])\n",
    "text_string2 = ' '.join([\"Felicitations\", \"for\", \"achieving\", \"a\", \"thoroughly\", \"excellent\", \"resolution\", \"to\", \"an\", \"altogether\", \"indombidable\", \"conundrum\", \"of\", \"humongous\", \"proportions\", \".\"])\n",
    "text_string3 = '?'\n",
    "\n",
    "assert 100 < get_reading_ease(text_string1) < 140\n",
    "assert -60 < get_reading_ease(text_string2) <-20\n",
    "assert get_reading_ease(text_string3) == 0\n",
    "print('success!')"
   ]
  },
  {
   "cell_type": "code",
   "execution_count": 34,
   "metadata": {},
   "outputs": [],
   "source": [
    "def native_lang_class(lang):\n",
    "    ''' This function returns 0 if the given language is Spanish or French.\n",
    "                              1 otherwise. \n",
    "    Argument:\n",
    "    --------\n",
    "    lang: a string\n",
    "\n",
    "    Returns:\n",
    "    --------\n",
    "    0 if lang is Spanish or French.\n",
    "    1 otherwise. \n",
    "    '''\n",
    "    if (lang.lower() in european_language_set):\n",
    "        return 0\n",
    "    return 1"
   ]
  },
  {
   "cell_type": "code",
   "execution_count": 35,
   "metadata": {},
   "outputs": [
    {
     "name": "stdout",
     "output_type": "stream",
     "text": [
      "success!\n"
     ]
    }
   ],
   "source": [
    "assert native_lang_class('Spanish') == 0\n",
    "assert native_lang_class('French') == 0\n",
    "assert native_lang_class('Mandarin Chinese') == 1\n",
    "assert native_lang_class('Korean') == 1\n",
    "assert native_lang_class('Japanese') == 1\n",
    "print('success!')"
   ]
  },
  {
   "cell_type": "markdown",
   "metadata": {},
   "source": [
    "### 2.2 Constructing feature dictionaries and datasets"
   ]
  },
  {
   "cell_type": "code",
   "execution_count": 36,
   "metadata": {},
   "outputs": [],
   "source": [
    "def get_feature_dict(raw_text):\n",
    "    ''' This function extracts features. \n",
    "    Argument:\n",
    "    --------\n",
    "    raw_text: a string\n",
    "\n",
    "    Returns:\n",
    "    --------\n",
    "    dictionary of features \n",
    "    '''\n",
    "    feature_dict = {}\n",
    "    pos_list = pos_tag(word_tokenize(raw_text), tagset=\"universal\")\n",
    "    feature_dict['lex_density'] = get_lex_density(pos_list)\n",
    "    feature_dict['adj_ratio'] = get_adj_ratio(pos_list)\n",
    "    feature_dict['det_noun_ratio'] = get_ratio_det_noun(pos_list)\n",
    "    feature_dict['adj_noun_boolean'] = int(is_adj_noun(pos_list))\n",
    "    feature_dict['non_alpha_ratio'] = get_ratio_special_non_alpha(raw_text)\n",
    "    feature_dict['syl_div_length'] = syl_div_length(raw_text)\n",
    "    feature_dict['sent_cmp_bool'] = int(sentence_completeness_boolean_revised(pos_list))\n",
    "    feature_dict['sent_cmp_ratio'] = sentence_completeness_ratio(pos_list)\n",
    "    feature_dict['lemma_txt_match'] = int(lemm_text_matching(raw_text))\n",
    "    feature_dict['type_token_ratio'] = type_token_ratio(raw_text)\n",
    "    feature_dict['art_freq'] = get_freq_art(raw_text)\n",
    "    feature_dict['perfect_aspects'] = get_perfect_aspects(raw_text)\n",
    "    feature_dict['euro_asia_occ'] = european_occurrences(raw_text)\n",
    "    feature_dict['reading_ease'] = get_reading_ease(raw_text)\n",
    "    \n",
    "    return feature_dict"
   ]
  },
  {
   "cell_type": "code",
   "execution_count": 37,
   "metadata": {},
   "outputs": [],
   "source": [
    "def construct_datasets(dataset_ind_file, mode = READ_FROM_ZIP):\n",
    "    ''' This function constructs X_train and y_train . \n",
    "\n",
    "    Argument:\n",
    "    --------\n",
    "    dataset_ind_file: the location of the file which contains the data set. \n",
    "    mode 0 if reading from zip file, 1 if reading from files in directory \n",
    "\n",
    "    Returns:\n",
    "    --------\n",
    "    X_train (named as feature_collection),\n",
    "    filename_list (index),\n",
    "    target (y_train): \n",
    "        0 if Spanish or French 1 otherwise\n",
    "    '''\n",
    "    \n",
    "    num_files = read_txt_file(data_directory + dataset_ind_file, mode = READ_NUM)\n",
    "    #breakpoint()\n",
    "    g = get_html_file(dataset_ind_file)\n",
    "    \n",
    "    feature_collection = []\n",
    "    filename_list = []\n",
    "    target = []\n",
    "    for g_count in range(num_files):\n",
    "        filename, native_lang, raw_text = get_raw_data(g, mode)\n",
    "        #print(g_count)\n",
    "        if native_lang.lower() != 'russian':\n",
    "            feature_collection.append(get_feature_dict(raw_text))\n",
    "            filename_list.append(filename)\n",
    "            target.append(native_lang_class(native_lang))\n",
    "\n",
    "    \n",
    "    return feature_collection, filename_list, target  "
   ]
  },
  {
   "cell_type": "code",
   "execution_count": 38,
   "metadata": {},
   "outputs": [],
   "source": [
    "feature_dicts_t, filename_list_t, y_train = construct_datasets(train_txt)"
   ]
  },
  {
   "cell_type": "code",
   "execution_count": 39,
   "metadata": {},
   "outputs": [],
   "source": [
    "feature_dicts_v, filename_list_v, y_valid = construct_datasets(dev_txt)"
   ]
  },
  {
   "cell_type": "markdown",
   "metadata": {},
   "source": [
    "## Part 3: Classification"
   ]
  },
  {
   "cell_type": "markdown",
   "metadata": {},
   "source": [
    "### 3.1 Vectorization (training and dev sets)"
   ]
  },
  {
   "cell_type": "code",
   "execution_count": 40,
   "metadata": {},
   "outputs": [],
   "source": [
    "def vectorize(feature_dicts_train, feature_dicts_valid):\n",
    "    '''vectorize given lists of dictionaries'''\n",
    "    vectorizer = DictVectorizer()\n",
    "    X_train = vectorizer.fit_transform(feature_dicts_train)\n",
    "    X_valid = vectorizer.transform(feature_dicts_valid)\n",
    "    \n",
    "    return X_train, X_valid"
   ]
  },
  {
   "cell_type": "code",
   "execution_count": 41,
   "metadata": {},
   "outputs": [],
   "source": [
    "X_train, X_valid = vectorize(feature_dicts_t, feature_dicts_v)"
   ]
  },
  {
   "cell_type": "markdown",
   "metadata": {},
   "source": [
    "### 3.2 Preliminary accuracy score"
   ]
  },
  {
   "cell_type": "code",
   "execution_count": 42,
   "metadata": {},
   "outputs": [
    {
     "name": "stdout",
     "output_type": "stream",
     "text": [
      "Preliminary accuracy score on dev_set:  0.7195121951219512\n"
     ]
    }
   ],
   "source": [
    "tree = DecisionTreeClassifier(max_depth=3)\n",
    "tree.fit(X_train, y_train)\n",
    "print(\"Preliminary accuracy score on dev_set: \", accuracy_score(y_valid, tree.predict(X_valid)))"
   ]
  },
  {
   "cell_type": "markdown",
   "metadata": {},
   "source": [
    "### 3.3 Ablation"
   ]
  },
  {
   "cell_type": "code",
   "execution_count": 43,
   "metadata": {},
   "outputs": [],
   "source": [
    "def feature_contributions(classifier, X_train, y_train, X = X_train, y = y_train, mode = 0):\n",
    "    ''' This function performs ablation. \n",
    "    Arguments:\n",
    "    ---------\n",
    "    classifier: the model to be used\n",
    "    X_train: train features\n",
    "    y_train: target\n",
    "    X: validation / test features\n",
    "    y: validation / test target\n",
    "    mode: indicates whether we are doing trainig or validation/testing.\n",
    "    0 for training, 1 for validation / testing\n",
    "\n",
    "    Returns:\n",
    "    ---------\n",
    "    returns a dictionary of changes in accuracy when a single feature is removed.\n",
    "    '''\n",
    "\n",
    "    vectorizer = DictVectorizer()\n",
    "    accuracy_dict = defaultdict(dict)\n",
    "\n",
    "    feature_list = list(X_train[0].keys())\n",
    "    #if mode == 0:\n",
    "    X_t = vectorizer.fit_transform(X_train).toarray()\n",
    "    if mode == 0:\n",
    "        y = y_train\n",
    "\n",
    "    if mode == 1: # validation or test set\n",
    "        #vectorizer.fit_transform(X_train).toarray()\n",
    "        X_t = vectorizer.transform(X).toarray()\n",
    "        \n",
    "    classifier.fit(X_t, y)\n",
    "    num_features = X_t.shape[1]\n",
    "    \n",
    "    accuracy_dict['full model'] = accuracy_score(y, classifier.predict(X_t))\n",
    "\n",
    "    for i,feature in enumerate(feature_list):\n",
    "\n",
    "        current_matrix = np.delete(X_t, i, 1)\n",
    "        classifier.fit(current_matrix, y)\n",
    "        accuracy_dict[feature] = accuracy_dict['full model'] - accuracy_score(y, classifier.predict(current_matrix))\n",
    "\n",
    "    return accuracy_dict"
   ]
  },
  {
   "cell_type": "code",
   "execution_count": 44,
   "metadata": {},
   "outputs": [],
   "source": [
    "def backward_selection(classifier, feature_dicts_t, y_train, feature_dicts_v, y_valid, num_feat = 8):\n",
    "    ''' This function performs backward selection based on accuracy.  \n",
    "    Arguments:\n",
    "    ---------\n",
    "    classifier : the model to be used\n",
    "    feature_dicts_t : a list of features (training)\n",
    "    y_train : target training set\n",
    "    feature_dicts_v : a list of features (validation)\n",
    "    y_valid : target validation set\n",
    "    num_feat: The number of features \n",
    "   \n",
    "    Returns:\n",
    "    ---------\n",
    "    returns \n",
    "    \n",
    "    X_train, X_valid : features matrices with ineffective features removed.\n",
    "    feature_list : a list of features remained.\n",
    "    '''\n",
    "\n",
    "    vectorizer = DictVectorizer()\n",
    "    accuracy_dict = defaultdict(dict)\n",
    "    feature_dict = defaultdict(float)\n",
    "\n",
    "    feature_list = list(feature_dicts_t[0].keys())\n",
    "    X_train = vectorizer.fit_transform(feature_dicts_t).toarray()\n",
    "    X_valid = vectorizer.transform(feature_dicts_v).toarray()\n",
    "    classifier.fit(X_train, y_train)\n",
    "    num_features = X_train.shape[1]\n",
    "    \n",
    "    accuracy_dict['full model'] = accuracy_score(y_valid, classifier.predict(X_valid))\n",
    "    print(\"The original number of features: \", num_features)\n",
    "    print(\"\\n\")\n",
    "\n",
    "    while len(feature_list) > num_feat:\n",
    "        feature_dict = {}\n",
    "        for i,feature in enumerate(feature_list):\n",
    "\n",
    "            current_matrix = np.delete(X_train, i, 1)\n",
    "            current_valid = np.delete(X_valid, i, 1)\n",
    "            classifier.fit(current_matrix, y_train)\n",
    "            feature_dict[feature] = round(accuracy_score(y_valid, classifier.predict(current_valid)), 3)\n",
    "            \n",
    "        feature_to_remove = max(feature_dict, key = feature_dict.get)\n",
    "        X_train = np.delete(X_train,feature_list.index(feature_to_remove),1)\n",
    "        X_valid = np.delete(X_valid, feature_list.index(feature_to_remove), 1)\n",
    "        print(f\"#######################The number of features: {X_valid.shape[1]}#######################\")\n",
    "        print(\"\\n\")\n",
    "        print(f\"Current accuracy with one feature removed: {feature_dict}\")\n",
    "        print(f\"Feature will be removed: {feature_to_remove, feature_dict[feature_to_remove]}\")\n",
    "        print(f\"Current best accuracy: {feature_dict[max(feature_dict, key = feature_dict.get)]}\")\n",
    "        print(\"\\n\")\n",
    "        feature_list.remove(feature_to_remove)\n",
    "\n",
    "    return X_train, X_valid, feature_list"
   ]
  },
  {
   "cell_type": "code",
   "execution_count": 45,
   "metadata": {},
   "outputs": [
    {
     "name": "stdout",
     "output_type": "stream",
     "text": [
      "The original number of features:  14\n",
      "\n",
      "\n",
      "#######################The number of features: 13#######################\n",
      "\n",
      "\n",
      "Current accuracy with one feature removed: {'lex_density': 0.72, 'adj_ratio': 0.72, 'det_noun_ratio': 0.72, 'adj_noun_boolean': 0.72, 'non_alpha_ratio': 0.667, 'syl_div_length': 0.724, 'sent_cmp_bool': 0.736, 'sent_cmp_ratio': 0.72, 'lemma_txt_match': 0.72, 'type_token_ratio': 0.715, 'art_freq': 0.724, 'perfect_aspects': 0.724, 'euro_asia_occ': 0.707, 'reading_ease': 0.732}\n",
      "Feature will be removed: ('sent_cmp_bool', 0.736)\n",
      "Current best accuracy: 0.736\n",
      "\n",
      "\n",
      "#######################The number of features: 12#######################\n",
      "\n",
      "\n",
      "Current accuracy with one feature removed: {'lex_density': 0.736, 'adj_ratio': 0.736, 'det_noun_ratio': 0.732, 'adj_noun_boolean': 0.732, 'non_alpha_ratio': 0.691, 'syl_div_length': 0.736, 'sent_cmp_ratio': 0.732, 'lemma_txt_match': 0.732, 'type_token_ratio': 0.728, 'art_freq': 0.732, 'perfect_aspects': 0.732, 'euro_asia_occ': 0.732, 'reading_ease': 0.732}\n",
      "Feature will be removed: ('lex_density', 0.736)\n",
      "Current best accuracy: 0.736\n",
      "\n",
      "\n",
      "#######################The number of features: 11#######################\n",
      "\n",
      "\n",
      "Current accuracy with one feature removed: {'adj_ratio': 0.732, 'det_noun_ratio': 0.732, 'adj_noun_boolean': 0.736, 'non_alpha_ratio': 0.691, 'syl_div_length': 0.732, 'sent_cmp_ratio': 0.732, 'lemma_txt_match': 0.732, 'type_token_ratio': 0.728, 'art_freq': 0.732, 'perfect_aspects': 0.732, 'euro_asia_occ': 0.732, 'reading_ease': 0.732}\n",
      "Feature will be removed: ('adj_noun_boolean', 0.736)\n",
      "Current best accuracy: 0.736\n",
      "\n",
      "\n",
      "#######################The number of features: 10#######################\n",
      "\n",
      "\n",
      "Current accuracy with one feature removed: {'adj_ratio': 0.732, 'det_noun_ratio': 0.732, 'non_alpha_ratio': 0.679, 'syl_div_length': 0.732, 'sent_cmp_ratio': 0.736, 'lemma_txt_match': 0.732, 'type_token_ratio': 0.728, 'art_freq': 0.732, 'perfect_aspects': 0.736, 'euro_asia_occ': 0.736, 'reading_ease': 0.736}\n",
      "Feature will be removed: ('sent_cmp_ratio', 0.736)\n",
      "Current best accuracy: 0.736\n",
      "\n",
      "\n",
      "Remaining features: ['adj_ratio', 'det_noun_ratio', 'non_alpha_ratio', 'syl_div_length', 'lemma_txt_match', 'type_token_ratio', 'art_freq', 'perfect_aspects', 'euro_asia_occ', 'reading_ease']\n"
     ]
    }
   ],
   "source": [
    "X_train, X_valid, new_feature_list = backward_selection(DecisionTreeClassifier(max_depth = 3, random_state = 123), feature_dicts_t, y_train, feature_dicts_v, y_valid, 10)\n",
    "print(f\"Remaining features: {new_feature_list}\")"
   ]
  },
  {
   "cell_type": "code",
   "execution_count": 46,
   "metadata": {},
   "outputs": [],
   "source": [
    "# check the size of X_train, X_valid\n",
    "\n",
    "assert X_train.shape[1] <= 10\n",
    "assert X_valid.shape[1] <= 10"
   ]
  },
  {
   "cell_type": "markdown",
   "metadata": {},
   "source": [
    "### 3.4 Test score report"
   ]
  },
  {
   "cell_type": "markdown",
   "metadata": {},
   "source": [
    "#### 3.4.1 Construct test datasets"
   ]
  },
  {
   "cell_type": "code",
   "execution_count": 47,
   "metadata": {},
   "outputs": [],
   "source": [
    "def get_final_feature_dict(raw_text, model = DECISION_TREE):\n",
    "    ''' This function extracts features that have been selected from the backward selection. \n",
    "    Argument:\n",
    "    --------\n",
    "    raw_text: a string\n",
    "    model: DECISION_TREE = 0 for Decision Tree\n",
    "           CATBOOST = 1 for Catboost \n",
    "\n",
    "    Returns:\n",
    "    --------\n",
    "    dictionary of features \n",
    "    '''\n",
    "    feature_dict = {}\n",
    "    pos_list = pos_tag(word_tokenize(raw_text), tagset=\"universal\")\n",
    "    \n",
    "    if model == DECISION_TREE: \n",
    "        \n",
    "        \n",
    "        feature_dict['adj_ratio'] = get_adj_ratio(pos_list)\n",
    "        feature_dict['det_noun_ratio'] = get_ratio_det_noun(pos_list)\n",
    "        feature_dict['non_alpha_ratio'] = get_ratio_special_non_alpha(raw_text)\n",
    "        feature_dict['syl_div_length'] = syl_div_length(raw_text) \n",
    "        feature_dict['lemma_txt_match'] = int(lemm_text_matching(raw_text))\n",
    "        feature_dict['type_token_ratio'] = type_token_ratio(raw_text)\n",
    "        feature_dict['art_freq'] = get_freq_art(raw_text)\n",
    "        feature_dict['perfect_aspects'] = get_perfect_aspects(raw_text)\n",
    "        feature_dict['euro_asia_occ'] = european_occurrences(raw_text)\n",
    "        feature_dict['reading_ease'] = get_reading_ease(raw_text)\n",
    "        \n",
    "    \n",
    "    elif model == RANDOM_FOREST: \n",
    "        \n",
    "        feature_dict['adj_ratio'] = get_adj_ratio(pos_list)\n",
    "        feature_dict['det_noun_ratio'] = get_ratio_det_noun(pos_list)\n",
    "        feature_dict['non_alpha_ratio'] = get_ratio_special_non_alpha(raw_text)\n",
    "        feature_dict['syl_div_length'] = syl_div_length(raw_text)\n",
    "        feature_dict['sent_cmp_ratio'] = sentence_completeness_ratio(pos_list)\n",
    "        feature_dict['lemma_txt_match'] = int(lemm_text_matching(raw_text))\n",
    "        feature_dict['type_token_ratio'] = type_token_ratio(raw_text)\n",
    "        feature_dict['art_freq'] = get_freq_art(raw_text)\n",
    "        feature_dict['perfect_aspects'] = get_perfect_aspects(raw_text)\n",
    "        feature_dict['euro_asia_occ'] = european_occurrences(raw_text)\n",
    "        \n",
    "    elif model == LGBM:    \n",
    "        \n",
    "        feature_dict['adj_ratio'] = get_adj_ratio(pos_list)\n",
    "        feature_dict['det_noun_ratio'] = get_ratio_det_noun(pos_list)\n",
    "        feature_dict['adj_noun_boolean'] = int(is_adj_noun(pos_list))\n",
    "        feature_dict['non_alpha_ratio'] = get_ratio_special_non_alpha(raw_text)\n",
    "        feature_dict['sent_cmp_bool'] = int(sentence_completeness_boolean_revised(pos_list))\n",
    "        feature_dict['sent_cmp_ratio'] = sentence_completeness_ratio(pos_list)\n",
    "        feature_dict['type_token_ratio'] = type_token_ratio(raw_text)\n",
    "        feature_dict['art_freq'] = get_freq_art(raw_text)\n",
    "        feature_dict['perfect_aspects'] = get_perfect_aspects(raw_text)\n",
    "        feature_dict['euro_asia_occ'] = european_occurrences(raw_text)\n",
    "    \n",
    "    else:    \n",
    "        \n",
    "        feature_dict['lex_density'] = get_lex_density(pos_list)\n",
    "        feature_dict['adj_ratio'] = get_adj_ratio(pos_list)\n",
    "        feature_dict['det_noun_ratio'] = get_ratio_det_noun(pos_list)\n",
    "        feature_dict['adj_noun_boolean'] = int(is_adj_noun(pos_list))\n",
    "        feature_dict['non_alpha_ratio'] = get_ratio_special_non_alpha(raw_text)\n",
    "        feature_dict['syl_div_length'] = syl_div_length(raw_text)\n",
    "        feature_dict['sent_cmp_bool'] = int(sentence_completeness_boolean_revised(pos_list))\n",
    "        feature_dict['sent_cmp_ratio'] = sentence_completeness_ratio(pos_list)\n",
    "        feature_dict['type_token_ratio'] = type_token_ratio(raw_text)\n",
    "        feature_dict['reading_ease'] = get_reading_ease(raw_text)\n",
    "    \n",
    "    \n",
    "    return feature_dict"
   ]
  },
  {
   "cell_type": "code",
   "execution_count": 48,
   "metadata": {},
   "outputs": [],
   "source": [
    "def construct_test_datasets(dataset_ind_file, mode = READ_FROM_ZIP, model = DECISION_TREE):\n",
    "    ''' This function constructs X_test and y_test . \n",
    "\n",
    "    Argument:\n",
    "    --------\n",
    "    dataset_ind_file: the location of the file which contains the data set. \n",
    "    mode 0 if reading from zip file, 1 if reading from files in directory \n",
    "    model DECISION_TREE = 0 or CATBOOST = 1 \n",
    "\n",
    "    Returns:\n",
    "    --------\n",
    "    X_test (named as feature_collection),\n",
    "    filename_list (index),\n",
    "    target (y_test): \n",
    "        0 if Spanish or French 1 otherwise\n",
    "    '''\n",
    "    \n",
    "    num_files = read_txt_file(data_directory + dataset_ind_file, mode = READ_NUM)\n",
    "    #breakpoint()\n",
    "    g = get_html_file(dataset_ind_file)\n",
    "    \n",
    "    feature_collection = []\n",
    "    filename_list = []\n",
    "    target = []\n",
    "    for g_count in range(num_files):\n",
    "        filename, native_lang, raw_text = get_raw_data(g, mode)\n",
    "        if native_lang.lower() != 'russian':\n",
    "            feature_collection.append(get_final_feature_dict(raw_text, model))\n",
    "            filename_list.append(filename)\n",
    "            target.append(native_lang_class(native_lang))\n",
    "    \n",
    "    return feature_collection, filename_list, target  "
   ]
  },
  {
   "cell_type": "markdown",
   "metadata": {},
   "source": [
    "#### 3.4.2 Test score report"
   ]
  },
  {
   "cell_type": "code",
   "execution_count": 49,
   "metadata": {},
   "outputs": [
    {
     "name": "stdout",
     "output_type": "stream",
     "text": [
      "Final accuracy score on test_set:  0.71\n",
      "Final feature used: ['adj_ratio', 'det_noun_ratio', 'non_alpha_ratio', 'syl_div_length', 'lemma_txt_match', 'type_token_ratio', 'art_freq', 'perfect_aspects', 'euro_asia_occ', 'reading_ease']\n"
     ]
    }
   ],
   "source": [
    "# get final dataframe for test, training\n",
    "feature_dicts_t_final, filename_list_t_final, y_train_final = construct_test_datasets(train_txt, READ_FROM_ZIP)\n",
    "feature_dicts_test, filename_list_test, y_test = construct_test_datasets(test_txt, READ_FROM_ZIP)\n",
    "\n",
    "# vectorize\n",
    "X_train_final, X_test = vectorize(feature_dicts_t_final, feature_dicts_test)\n",
    "\n",
    "# model\n",
    "tree_final = DecisionTreeClassifier(max_depth=3)\n",
    "\n",
    "# fit\n",
    "tree_final.fit(X_train_final, y_train_final)\n",
    "\n",
    "# report the test score\n",
    "print(\"Final accuracy score on test_set: \", round(accuracy_score(y_test, tree_final.predict(X_test)), 2))\n",
    "print(f\"Final feature used: {new_feature_list}\")"
   ]
  },
  {
   "cell_type": "markdown",
   "metadata": {},
   "source": [
    "## Part 4"
   ]
  },
  {
   "cell_type": "markdown",
   "metadata": {},
   "source": [
    "### 4.1 Tree plot"
   ]
  },
  {
   "cell_type": "code",
   "execution_count": 50,
   "metadata": {},
   "outputs": [
    {
     "data": {
      "image/png": "[encoded data removed]",
      "text/plain": [
       "<Figure size 1296x1080 with 1 Axes>"
      ]
     },
     "metadata": {
      "needs_background": "light"
     },
     "output_type": "display_data"
    }
   ],
   "source": [
    "#Tree plot\n",
    "from matplotlib import pyplot as plt\n",
    "from sklearn import datasets\n",
    "from sklearn.tree import DecisionTreeClassifier \n",
    "from sklearn import tree\n",
    "\n",
    "plt.figure(figsize=(18,15))\n",
    "tree.plot_tree(tree_final, feature_names= new_feature_list,\n",
    " filled = True, fontsize=14);"
   ]
  },
  {
   "cell_type": "markdown",
   "metadata": {},
   "source": [
    "* Since we set depth to 3, there will only be 3 levels in this tree. \n",
    "At depth 0, we see that the model uses syl_div_length as the root node. This means \n",
    "that the model first asks itself, if syl_div_length is less than or equal to 1.5. Based\n",
    "on that answer, it will follow the true or false path. The gini number quantifies\n",
    "the 'purity' of the node. So, a gini score greater than 0 suggests that the samples \n",
    "in that node are pure, and within that node, only 1 class of samples exists. The sample's\n",
    "number indicates that there are a total of 743 samples in this model's dataset. Lastly,\n",
    "the value indicates how many samples at that node fall into each category.\n",
    "\n",
    "* Then, this is split into depth 1, which consists of examples that have\n",
    "syl_div_length <= 0.5, and the other choice as perfect_aspects<= -353. This continues\n",
    "until we hit the depth of 3. The model chooses different features per depth, and \n",
    "continues to provide T/F choices per node. \n",
    "\n",
    "* Overall, the model is choosing splits based on the root node, then chooses a feature\n",
    "to split on. It looks at subsets, and it calculates the purity/impurity at each depth, \n",
    "until it reaches the max depth of 3."
   ]
  },
  {
   "cell_type": "markdown",
   "metadata": {},
   "source": [
    "### 4.2 Features created, and why"
   ]
  },
  {
   "cell_type": "markdown",
   "metadata": {},
   "source": [
    "| Feature            | Description                                                                                                                                                                                                                                                                                                      |\n",
    "|--------------------|------------------------------------------------------------------------------------------------------------------------------------------------------------------------------------------------------------------------------------------------------------------------------------------------------------------|\n",
    "| `lex_density`      | - Lexical density of a text<br>- We thought Asian English learners tend to have difficulties using proper articles for nouns or proper prepositions. Therefore, we expected that we would observe higher lexical density in Asian learners' texts over European learners' texts.                                 |\n",
    "| `adj_ratio`        | - A ratio of adjectives to the number of words: We thought that adjectives were more often used in Asian languages than in European languages.                                                                                                                                                                   |\n",
    "| `det_noun_ratio`   | - A ratio of combinations of determinant-noun to the number of words<br> - In Eastern Asian languages, there is no concept of articles. Therefore, articles/determinants are easy to be omitted for those English learners.                                                                                           |\n",
    "| `adj_noun_boolean` | - In French and Spanish, adjectives comes after nouns, but in Eastern Asian languages, nouns comes after adjectives like in English. At first, we were going to check if there were any noun-adj patterns, but it was challenging as pos_tag cannot identify adjectives coming after nouns as adjectives.        |\n",
    "| `non_alpha_ratio`  | - A ratio of special non alphanumeric characters to the length of a text<br> - In Eastern Asian culture (particularly in a context of webtexts), people often use a lot of non-alphanumeric characters to create text-based emoticons. For example, ^^ represents a smiling face and +_+ represents an excited face.  |\n",
    "| `syl_div_length`   | - A ratio of syllables in the sentence, divided by the total length of the sentence. This is because in Asian languages, we suspect they may write shorter sentences, and this is one way to tell.                                                                                                               |\n",
    "| `sent_cmp_bool`    | - A test of completeness in the sentence, which is simply checking if there is more than 1 noun and more than 1 verb in the sentence. This way, if there are any incomplete sentences, which may be more common in Asian English learners, then this would help us differentiate that.                           |\n",
    "| `sent_cmp_ratio`   | - This checks to see how many nouns/pronouns there are, compared to verbs. This will tell us how many subjects there are, compared to verbs in their sentences. We suspect that Asian English learners would use an equal amount or more verbs in their sentences, since they seemed to talk more about actions. |\n",
    "| `lemma_txt_match`  | - This checks to see if the sentence is equal to it’s lemmatized form. If it is, there’s a higher chance that the speaker is an Asian English learner, because it’s quite common to forget to add “s” for pluralization or use the base form for words.                                                          |\n",
    "| `type_token_ratio` | - Checks the number of different types of words in the sentence, dividied by the length of the sentence. The complexity might be lower for Asian English learners, but we’ll have to let the model decide on this one.                                                                                           |\n",
    "| `art_freq`         | - Frequency of articles in the sentence<br>- Asian languages do not have articles; therefore, it is likely that Asian English speakers do not use articles in their sentences.                                                                                                                                   |\n",
    "| `perfect_aspects`  | - There is no perfect aspect in Asian languages but there are perfect aspects in European languages. Therefore, we thought that this would be a good feature to distinguish between European and Asian native language speakers.                                                                                 |\n",
    "| `euro_asia_occ`    | - Occurrence of words associated with European / Asian places, culture and food: We thought that the appearance of places or particular food or cultural events could be used to distinguish European and Asian native language speakers.                                                                        |\n",
    "| `reading_ease`     | - French and Spanish speakers are likely to follow the same sentence structure as English and substitute words from their native languages with English words.                                                                                                                                                   |"
   ]
  },
  {
   "cell_type": "markdown",
   "metadata": {},
   "source": [
    "### 4.3 How did the features perform"
   ]
  },
  {
   "cell_type": "markdown",
   "metadata": {},
   "source": [
    "How did the features perform: \n",
    "\n",
    "* Final accuracy score on test_set: ~0.71\n",
    "\n",
    "* Final feature used(10): 'adj_ratio', 'det_noun_ratio', 'non_alpha_ratio', 'syl_div_length', 'lemma_txt_match', 'type_token_ratio', 'art_freq', 'perfect_aspects', 'euro_asia_occ', 'reading_ease'\n",
    "\n",
    "* They ended up being around the same score, with the baseline model around 0.71, and our model being 0.71 as well. The features didn’t strongly negatively affect our model, and it was still fitting correctly around 71% of the time. \n",
    "* Which means, we ended up dropping: * Which means, we ended up dropping: sent_cmp_bool, lex_density, adj_noun_boolean, and sent_cmp_ratio. \n"
   ]
  },
  {
   "cell_type": "markdown",
   "metadata": {},
   "source": [
    "### 4.4 What each member did\n",
    "\n",
    "1. Christina: set-up the repository, set-up meetings\n",
    "    - Part 1: extracted filename, \n",
    "    - Part 2: implemented four features and implemented the wrap-up function (which constructs the data set). \n",
    "    - Part 5: tried different models with 10 features. \n",
    "             \n",
    "2. Daniel\n",
    "    - Part 2: brainstorming and note taking during meeting, coded 4 of the possible features\n",
    "    - Part 3: briefly helped with part 3 design\n",
    "    - Part 4: completed part 4. \n",
    "\n",
    "3. Jin\n",
    "    - Part 2: brainstorming, checked others' codes, feature extraction (5 features)\n",
    "    - Part 3: wrapped up the part 3, fixed codes, reported the test score.\n",
    "    - Organized the whole report.\n",
    "\n",
    "4. Sheena\n",
    "    - Part 2: feature extraction(1 feature), tested Part 2 feature functions\n",
    "    - Part 3: helped with Part 3 implementation. "
   ]
  },
  {
   "cell_type": "markdown",
   "metadata": {},
   "source": [
    "## Part 5: Try with other models"
   ]
  },
  {
   "cell_type": "code",
   "execution_count": 51,
   "metadata": {},
   "outputs": [
    {
     "name": "stdout",
     "output_type": "stream",
     "text": [
      "Preliminary accuracy score on dev_set:  0.7357723577235772\n"
     ]
    }
   ],
   "source": [
    "dc = DecisionTreeClassifier(max_depth = 3, random_state = 123)\n",
    "dc.fit(X_train, y_train)\n",
    "print(\"Preliminary accuracy score on dev_set: \", accuracy_score(y_valid, dc.predict(X_valid)))"
   ]
  },
  {
   "cell_type": "code",
   "execution_count": 52,
   "metadata": {},
   "outputs": [
    {
     "name": "stdout",
     "output_type": "stream",
     "text": [
      "Preliminary accuracy score on dev_set:  0.7398373983739838\n"
     ]
    }
   ],
   "source": [
    "rf = RandomForestClassifier(max_depth = 3, random_state = 123)\n",
    "rf.fit(X_train, y_train)\n",
    "print(\"Preliminary accuracy score on dev_set: \", accuracy_score(y_valid, rf.predict(X_valid)))"
   ]
  },
  {
   "cell_type": "code",
   "execution_count": 53,
   "metadata": {},
   "outputs": [
    {
     "name": "stdout",
     "output_type": "stream",
     "text": [
      "Preliminary accuracy score on dev_set:  0.7235772357723578\n"
     ]
    }
   ],
   "source": [
    "lg = LGBMClassifier(max_depth = 3, random_state = 123, num_leaves = 32)\n",
    "lg.fit(X_train, y_train)\n",
    "print(\"Preliminary accuracy score on dev_set: \", accuracy_score(y_valid, lg.predict(X_valid)))"
   ]
  },
  {
   "cell_type": "code",
   "execution_count": 54,
   "metadata": {},
   "outputs": [
    {
     "name": "stdout",
     "output_type": "stream",
     "text": [
      "Preliminary accuracy score on dev_set:  0.7317073170731707\n"
     ]
    }
   ],
   "source": [
    "cat = CatBoostClassifier(max_depth = 3, random_state = 123, verbose = 0)\n",
    "cat.fit(X_train, y_train)\n",
    "print(\"Preliminary accuracy score on dev_set: \", accuracy_score(y_valid, cat.predict(X_valid)))"
   ]
  },
  {
   "cell_type": "code",
   "execution_count": 55,
   "metadata": {},
   "outputs": [
    {
     "name": "stdout",
     "output_type": "stream",
     "text": [
      "The original number of features:  14\n",
      "\n",
      "\n",
      "#######################The number of features: 13#######################\n",
      "\n",
      "\n",
      "Current accuracy with one feature removed: {'lex_density': 0.736, 'adj_ratio': 0.736, 'det_noun_ratio': 0.736, 'adj_noun_boolean': 0.736, 'non_alpha_ratio': 0.703, 'syl_div_length': 0.728, 'sent_cmp_bool': 0.74, 'sent_cmp_ratio': 0.736, 'lemma_txt_match': 0.732, 'type_token_ratio': 0.728, 'art_freq': 0.736, 'perfect_aspects': 0.732, 'euro_asia_occ': 0.736, 'reading_ease': 0.74}\n",
      "Feature will be removed: ('sent_cmp_bool', 0.74)\n",
      "Current best accuracy: 0.74\n",
      "\n",
      "\n",
      "#######################The number of features: 12#######################\n",
      "\n",
      "\n",
      "Current accuracy with one feature removed: {'lex_density': 0.74, 'adj_ratio': 0.74, 'det_noun_ratio': 0.736, 'adj_noun_boolean': 0.74, 'non_alpha_ratio': 0.695, 'syl_div_length': 0.74, 'sent_cmp_ratio': 0.732, 'lemma_txt_match': 0.74, 'type_token_ratio': 0.736, 'art_freq': 0.74, 'perfect_aspects': 0.736, 'euro_asia_occ': 0.736, 'reading_ease': 0.74}\n",
      "Feature will be removed: ('lex_density', 0.74)\n",
      "Current best accuracy: 0.74\n",
      "\n",
      "\n",
      "#######################The number of features: 11#######################\n",
      "\n",
      "\n",
      "Current accuracy with one feature removed: {'adj_ratio': 0.732, 'det_noun_ratio': 0.736, 'adj_noun_boolean': 0.744, 'non_alpha_ratio': 0.699, 'syl_div_length': 0.74, 'sent_cmp_ratio': 0.736, 'lemma_txt_match': 0.74, 'type_token_ratio': 0.736, 'art_freq': 0.736, 'perfect_aspects': 0.736, 'euro_asia_occ': 0.736, 'reading_ease': 0.736}\n",
      "Feature will be removed: ('adj_noun_boolean', 0.744)\n",
      "Current best accuracy: 0.744\n",
      "\n",
      "\n",
      "#######################The number of features: 10#######################\n",
      "\n",
      "\n",
      "Current accuracy with one feature removed: {'adj_ratio': 0.736, 'det_noun_ratio': 0.736, 'non_alpha_ratio': 0.699, 'syl_div_length': 0.736, 'sent_cmp_ratio': 0.74, 'lemma_txt_match': 0.74, 'type_token_ratio': 0.74, 'art_freq': 0.74, 'perfect_aspects': 0.736, 'euro_asia_occ': 0.74, 'reading_ease': 0.744}\n",
      "Feature will be removed: ('reading_ease', 0.744)\n",
      "Current best accuracy: 0.744\n",
      "\n",
      "\n",
      "Remaining features: ['adj_ratio', 'det_noun_ratio', 'non_alpha_ratio', 'syl_div_length', 'sent_cmp_ratio', 'lemma_txt_match', 'type_token_ratio', 'art_freq', 'perfect_aspects', 'euro_asia_occ']\n"
     ]
    }
   ],
   "source": [
    "X_train, X_valid, new_feature_list = backward_selection(rf, feature_dicts_t, y_train, feature_dicts_v, y_valid, 10)\n",
    "print(f\"Remaining features: {new_feature_list}\")"
   ]
  },
  {
   "cell_type": "code",
   "execution_count": 56,
   "metadata": {},
   "outputs": [
    {
     "name": "stdout",
     "output_type": "stream",
     "text": [
      "The original number of features:  14\n",
      "\n",
      "\n",
      "#######################The number of features: 13#######################\n",
      "\n",
      "\n",
      "Current accuracy with one feature removed: {'lex_density': 0.76, 'adj_ratio': 0.76, 'det_noun_ratio': 0.752, 'adj_noun_boolean': 0.764, 'non_alpha_ratio': 0.72, 'syl_div_length': 0.76, 'sent_cmp_bool': 0.732, 'sent_cmp_ratio': 0.752, 'lemma_txt_match': 0.772, 'type_token_ratio': 0.756, 'art_freq': 0.76, 'perfect_aspects': 0.74, 'euro_asia_occ': 0.76, 'reading_ease': 0.748}\n",
      "Feature will be removed: ('lemma_txt_match', 0.772)\n",
      "Current best accuracy: 0.772\n",
      "\n",
      "\n",
      "#######################The number of features: 12#######################\n",
      "\n",
      "\n",
      "Current accuracy with one feature removed: {'lex_density': 0.772, 'adj_ratio': 0.748, 'det_noun_ratio': 0.744, 'adj_noun_boolean': 0.76, 'non_alpha_ratio': 0.695, 'syl_div_length': 0.772, 'sent_cmp_bool': 0.736, 'sent_cmp_ratio': 0.76, 'type_token_ratio': 0.768, 'art_freq': 0.772, 'perfect_aspects': 0.756, 'euro_asia_occ': 0.76, 'reading_ease': 0.776}\n",
      "Feature will be removed: ('reading_ease', 0.776)\n",
      "Current best accuracy: 0.776\n",
      "\n",
      "\n",
      "#######################The number of features: 11#######################\n",
      "\n",
      "\n",
      "Current accuracy with one feature removed: {'lex_density': 0.776, 'adj_ratio': 0.748, 'det_noun_ratio': 0.756, 'adj_noun_boolean': 0.752, 'non_alpha_ratio': 0.699, 'syl_div_length': 0.776, 'sent_cmp_bool': 0.732, 'sent_cmp_ratio': 0.748, 'type_token_ratio': 0.728, 'art_freq': 0.776, 'perfect_aspects': 0.74, 'euro_asia_occ': 0.76}\n",
      "Feature will be removed: ('lex_density', 0.776)\n",
      "Current best accuracy: 0.776\n",
      "\n",
      "\n",
      "#######################The number of features: 10#######################\n",
      "\n",
      "\n",
      "Current accuracy with one feature removed: {'adj_ratio': 0.756, 'det_noun_ratio': 0.756, 'adj_noun_boolean': 0.752, 'non_alpha_ratio': 0.699, 'syl_div_length': 0.776, 'sent_cmp_bool': 0.732, 'sent_cmp_ratio': 0.748, 'type_token_ratio': 0.74, 'art_freq': 0.776, 'perfect_aspects': 0.74, 'euro_asia_occ': 0.76}\n",
      "Feature will be removed: ('syl_div_length', 0.776)\n",
      "Current best accuracy: 0.776\n",
      "\n",
      "\n",
      "Remaining features: ['adj_ratio', 'det_noun_ratio', 'adj_noun_boolean', 'non_alpha_ratio', 'sent_cmp_bool', 'sent_cmp_ratio', 'type_token_ratio', 'art_freq', 'perfect_aspects', 'euro_asia_occ']\n"
     ]
    }
   ],
   "source": [
    "X_train, X_valid, new_feature_list = backward_selection(lg, feature_dicts_t, y_train, feature_dicts_v, y_valid,10)\n",
    "print(f\"Remaining features: {new_feature_list}\")"
   ]
  },
  {
   "cell_type": "code",
   "execution_count": 57,
   "metadata": {},
   "outputs": [
    {
     "name": "stdout",
     "output_type": "stream",
     "text": [
      "The original number of features:  14\n",
      "\n",
      "\n",
      "#######################The number of features: 13#######################\n",
      "\n",
      "\n",
      "Current accuracy with one feature removed: {'lex_density': 0.744, 'adj_ratio': 0.736, 'det_noun_ratio': 0.748, 'adj_noun_boolean': 0.748, 'non_alpha_ratio': 0.715, 'syl_div_length': 0.74, 'sent_cmp_bool': 0.732, 'sent_cmp_ratio': 0.752, 'lemma_txt_match': 0.744, 'type_token_ratio': 0.74, 'art_freq': 0.744, 'perfect_aspects': 0.756, 'euro_asia_occ': 0.756, 'reading_ease': 0.74}\n",
      "Feature will be removed: ('perfect_aspects', 0.756)\n",
      "Current best accuracy: 0.756\n",
      "\n",
      "\n",
      "#######################The number of features: 12#######################\n",
      "\n",
      "\n",
      "Current accuracy with one feature removed: {'lex_density': 0.748, 'adj_ratio': 0.732, 'det_noun_ratio': 0.74, 'adj_noun_boolean': 0.748, 'non_alpha_ratio': 0.728, 'syl_div_length': 0.756, 'sent_cmp_bool': 0.74, 'sent_cmp_ratio': 0.748, 'lemma_txt_match': 0.748, 'type_token_ratio': 0.752, 'art_freq': 0.748, 'euro_asia_occ': 0.76, 'reading_ease': 0.76}\n",
      "Feature will be removed: ('euro_asia_occ', 0.76)\n",
      "Current best accuracy: 0.76\n",
      "\n",
      "\n",
      "#######################The number of features: 11#######################\n",
      "\n",
      "\n",
      "Current accuracy with one feature removed: {'lex_density': 0.756, 'adj_ratio': 0.744, 'det_noun_ratio': 0.756, 'adj_noun_boolean': 0.752, 'non_alpha_ratio': 0.728, 'syl_div_length': 0.76, 'sent_cmp_bool': 0.752, 'sent_cmp_ratio': 0.752, 'lemma_txt_match': 0.764, 'type_token_ratio': 0.764, 'art_freq': 0.756, 'reading_ease': 0.752}\n",
      "Feature will be removed: ('lemma_txt_match', 0.764)\n",
      "Current best accuracy: 0.764\n",
      "\n",
      "\n",
      "#######################The number of features: 10#######################\n",
      "\n",
      "\n",
      "Current accuracy with one feature removed: {'lex_density': 0.764, 'adj_ratio': 0.744, 'det_noun_ratio': 0.76, 'adj_noun_boolean': 0.756, 'non_alpha_ratio': 0.74, 'syl_div_length': 0.764, 'sent_cmp_bool': 0.744, 'sent_cmp_ratio': 0.756, 'type_token_ratio': 0.764, 'art_freq': 0.768, 'reading_ease': 0.764}\n",
      "Feature will be removed: ('art_freq', 0.768)\n",
      "Current best accuracy: 0.768\n",
      "\n",
      "\n",
      "Remaining features: ['lex_density', 'adj_ratio', 'det_noun_ratio', 'adj_noun_boolean', 'non_alpha_ratio', 'syl_div_length', 'sent_cmp_bool', 'sent_cmp_ratio', 'type_token_ratio', 'reading_ease']\n"
     ]
    }
   ],
   "source": [
    "X_train, X_valid, new_feature_list = backward_selection(cat, feature_dicts_t, y_train, feature_dicts_v, y_valid,10)\n",
    "print(f\"Remaining features: {new_feature_list}\")"
   ]
  },
  {
   "cell_type": "markdown",
   "metadata": {},
   "source": [
    "We observe that the Random Forest classifier returns the validation score of 0.74, lightGBM 0.78 and Catboost 0.77."
   ]
  },
  {
   "cell_type": "code",
   "execution_count": 58,
   "metadata": {},
   "outputs": [
    {
     "name": "stdout",
     "output_type": "stream",
     "text": [
      "Final accuracy score on test_set:  0.71\n",
      "Final feature used: ['lex_density', 'adj_ratio', 'det_noun_ratio', 'adj_noun_boolean', 'non_alpha_ratio', 'syl_div_length', 'sent_cmp_bool', 'sent_cmp_ratio', 'type_token_ratio', 'reading_ease']\n"
     ]
    }
   ],
   "source": [
    "# get final dataframe for test, training\n",
    "\n",
    "feature_dicts_test, filename_list_test, y_test = construct_test_datasets(test_txt, READ_FROM_ZIP, RANDOM_FOREST)\n",
    "\n",
    "# vectorize\n",
    "X_train_final, X_test = vectorize(feature_dicts_t_final, feature_dicts_test)\n",
    "\n",
    "# model\n",
    "rf_final = RandomForestClassifier(max_depth=3, verbose = 0, random_state = 123)\n",
    "\n",
    "# fit\n",
    "rf_final.fit(X_train_final, y_train_final)\n",
    "\n",
    "# report the test score\n",
    "print(\"Final accuracy score on test_set: \", round(accuracy_score(y_test, rf_final.predict(X_test)), 2))\n",
    "print(f\"Final feature used: {new_feature_list}\")"
   ]
  },
  {
   "cell_type": "code",
   "execution_count": 59,
   "metadata": {},
   "outputs": [
    {
     "name": "stdout",
     "output_type": "stream",
     "text": [
      "[LightGBM] [Warning] Auto-choosing row-wise multi-threading, the overhead of testing was 0.000610 seconds.\n",
      "You can set `force_row_wise=true` to remove the overhead.\n",
      "And if memory is not enough, you can set `force_col_wise=true`.\n",
      "[LightGBM] [Warning] No further splits with positive gain, best gain: -inf\n",
      "[LightGBM] [Warning] No further splits with positive gain, best gain: -inf\n",
      "[LightGBM] [Warning] No further splits with positive gain, best gain: -inf\n",
      "[LightGBM] [Warning] No further splits with positive gain, best gain: -inf\n",
      "[LightGBM] [Warning] No further splits with positive gain, best gain: -inf\n",
      "[LightGBM] [Warning] No further splits with positive gain, best gain: -inf\n",
      "[LightGBM] [Warning] No further splits with positive gain, best gain: -inf\n",
      "[LightGBM] [Warning] No further splits with positive gain, best gain: -inf\n",
      "[LightGBM] [Warning] No further splits with positive gain, best gain: -inf\n",
      "[LightGBM] [Warning] No further splits with positive gain, best gain: -inf\n",
      "[LightGBM] [Warning] No further splits with positive gain, best gain: -inf\n",
      "[LightGBM] [Warning] No further splits with positive gain, best gain: -inf\n",
      "[LightGBM] [Warning] No further splits with positive gain, best gain: -inf\n",
      "[LightGBM] [Warning] No further splits with positive gain, best gain: -inf\n",
      "[LightGBM] [Warning] No further splits with positive gain, best gain: -inf\n",
      "[LightGBM] [Warning] No further splits with positive gain, best gain: -inf\n",
      "[LightGBM] [Warning] No further splits with positive gain, best gain: -inf\n",
      "[LightGBM] [Warning] No further splits with positive gain, best gain: -inf\n",
      "[LightGBM] [Warning] No further splits with positive gain, best gain: -inf\n",
      "[LightGBM] [Warning] No further splits with positive gain, best gain: -inf\n",
      "[LightGBM] [Warning] No further splits with positive gain, best gain: -inf\n",
      "[LightGBM] [Warning] No further splits with positive gain, best gain: -inf\n",
      "[LightGBM] [Warning] No further splits with positive gain, best gain: -inf\n",
      "[LightGBM] [Warning] No further splits with positive gain, best gain: -inf\n",
      "[LightGBM] [Warning] No further splits with positive gain, best gain: -inf\n",
      "[LightGBM] [Warning] No further splits with positive gain, best gain: -inf\n",
      "[LightGBM] [Warning] No further splits with positive gain, best gain: -inf\n",
      "[LightGBM] [Warning] No further splits with positive gain, best gain: -inf\n",
      "[LightGBM] [Warning] No further splits with positive gain, best gain: -inf\n",
      "[LightGBM] [Warning] No further splits with positive gain, best gain: -inf\n",
      "[LightGBM] [Warning] No further splits with positive gain, best gain: -inf\n",
      "[LightGBM] [Warning] No further splits with positive gain, best gain: -inf\n",
      "[LightGBM] [Warning] No further splits with positive gain, best gain: -inf\n",
      "[LightGBM] [Warning] No further splits with positive gain, best gain: -inf\n",
      "[LightGBM] [Warning] No further splits with positive gain, best gain: -inf\n",
      "[LightGBM] [Warning] No further splits with positive gain, best gain: -inf\n",
      "[LightGBM] [Warning] No further splits with positive gain, best gain: -inf\n",
      "[LightGBM] [Warning] No further splits with positive gain, best gain: -inf\n",
      "[LightGBM] [Warning] No further splits with positive gain, best gain: -inf\n",
      "[LightGBM] [Warning] No further splits with positive gain, best gain: -inf\n",
      "[LightGBM] [Warning] No further splits with positive gain, best gain: -inf\n",
      "[LightGBM] [Warning] No further splits with positive gain, best gain: -inf\n",
      "[LightGBM] [Warning] No further splits with positive gain, best gain: -inf\n",
      "[LightGBM] [Warning] No further splits with positive gain, best gain: -inf\n",
      "[LightGBM] [Warning] No further splits with positive gain, best gain: -inf\n",
      "[LightGBM] [Warning] No further splits with positive gain, best gain: -inf\n",
      "[LightGBM] [Warning] No further splits with positive gain, best gain: -inf\n",
      "[LightGBM] [Warning] No further splits with positive gain, best gain: -inf\n",
      "[LightGBM] [Warning] No further splits with positive gain, best gain: -inf\n",
      "[LightGBM] [Warning] No further splits with positive gain, best gain: -inf\n",
      "[LightGBM] [Warning] No further splits with positive gain, best gain: -inf\n",
      "[LightGBM] [Warning] No further splits with positive gain, best gain: -inf\n",
      "[LightGBM] [Warning] No further splits with positive gain, best gain: -inf\n",
      "[LightGBM] [Warning] No further splits with positive gain, best gain: -inf\n",
      "[LightGBM] [Warning] No further splits with positive gain, best gain: -inf\n",
      "[LightGBM] [Warning] No further splits with positive gain, best gain: -inf\n",
      "[LightGBM] [Warning] No further splits with positive gain, best gain: -inf\n",
      "[LightGBM] [Warning] No further splits with positive gain, best gain: -inf\n",
      "[LightGBM] [Warning] No further splits with positive gain, best gain: -inf\n",
      "[LightGBM] [Warning] No further splits with positive gain, best gain: -inf\n",
      "[LightGBM] [Warning] No further splits with positive gain, best gain: -inf\n",
      "[LightGBM] [Warning] No further splits with positive gain, best gain: -inf\n",
      "[LightGBM] [Warning] No further splits with positive gain, best gain: -inf\n",
      "[LightGBM] [Warning] No further splits with positive gain, best gain: -inf\n",
      "[LightGBM] [Warning] No further splits with positive gain, best gain: -inf\n",
      "[LightGBM] [Warning] No further splits with positive gain, best gain: -inf\n",
      "[LightGBM] [Warning] No further splits with positive gain, best gain: -inf\n",
      "[LightGBM] [Warning] No further splits with positive gain, best gain: -inf\n",
      "[LightGBM] [Warning] No further splits with positive gain, best gain: -inf\n",
      "[LightGBM] [Warning] No further splits with positive gain, best gain: -inf\n",
      "[LightGBM] [Warning] No further splits with positive gain, best gain: -inf\n",
      "[LightGBM] [Warning] No further splits with positive gain, best gain: -inf\n",
      "[LightGBM] [Warning] No further splits with positive gain, best gain: -inf\n",
      "[LightGBM] [Warning] No further splits with positive gain, best gain: -inf\n",
      "[LightGBM] [Warning] No further splits with positive gain, best gain: -inf\n",
      "[LightGBM] [Warning] No further splits with positive gain, best gain: -inf\n",
      "[LightGBM] [Warning] No further splits with positive gain, best gain: -inf\n",
      "[LightGBM] [Warning] No further splits with positive gain, best gain: -inf\n",
      "[LightGBM] [Warning] No further splits with positive gain, best gain: -inf\n",
      "[LightGBM] [Warning] No further splits with positive gain, best gain: -inf\n",
      "[LightGBM] [Warning] No further splits with positive gain, best gain: -inf\n",
      "[LightGBM] [Warning] No further splits with positive gain, best gain: -inf\n",
      "[LightGBM] [Warning] No further splits with positive gain, best gain: -inf\n",
      "[LightGBM] [Warning] No further splits with positive gain, best gain: -inf\n",
      "[LightGBM] [Warning] No further splits with positive gain, best gain: -inf\n",
      "[LightGBM] [Warning] No further splits with positive gain, best gain: -inf\n",
      "[LightGBM] [Warning] No further splits with positive gain, best gain: -inf\n",
      "[LightGBM] [Warning] No further splits with positive gain, best gain: -inf\n",
      "[LightGBM] [Warning] No further splits with positive gain, best gain: -inf\n",
      "[LightGBM] [Warning] No further splits with positive gain, best gain: -inf\n",
      "[LightGBM] [Warning] No further splits with positive gain, best gain: -inf\n",
      "Final accuracy score on test_set:  0.7\n",
      "Final feature used: ['lex_density', 'adj_ratio', 'det_noun_ratio', 'adj_noun_boolean', 'non_alpha_ratio', 'syl_div_length', 'sent_cmp_bool', 'sent_cmp_ratio', 'type_token_ratio', 'reading_ease']\n"
     ]
    }
   ],
   "source": [
    "# get final dataframe for test, training\n",
    "\n",
    "feature_dicts_test, filename_list_test, y_test = construct_test_datasets(test_txt, READ_FROM_ZIP, LGBM)\n",
    "\n",
    "# vectorize\n",
    "X_train_final, X_test = vectorize(feature_dicts_t_final, feature_dicts_test)\n",
    "\n",
    "# model\n",
    "lg_final = LGBMClassifier(max_depth=3, verbose = 0, random_state = 123, num_leaves = 32)\n",
    "\n",
    "# fit\n",
    "lg_final.fit(X_train_final, y_train_final)\n",
    "\n",
    "# report the test score\n",
    "print(\"Final accuracy score on test_set: \", round(accuracy_score(y_test, lg_final.predict(X_test)), 2))\n",
    "print(f\"Final feature used: {new_feature_list}\")"
   ]
  },
  {
   "cell_type": "code",
   "execution_count": 60,
   "metadata": {},
   "outputs": [
    {
     "name": "stdout",
     "output_type": "stream",
     "text": [
      "Final accuracy score on test_set:  0.69\n",
      "Final feature used: ['lex_density', 'adj_ratio', 'det_noun_ratio', 'adj_noun_boolean', 'non_alpha_ratio', 'syl_div_length', 'sent_cmp_bool', 'sent_cmp_ratio', 'type_token_ratio', 'reading_ease']\n"
     ]
    }
   ],
   "source": [
    "# get final dataframe for test, training\n",
    "\n",
    "feature_dicts_test, filename_list_test, y_test = construct_test_datasets(test_txt, READ_FROM_ZIP, CATBOOST)\n",
    "\n",
    "# vectorize\n",
    "X_train_final, X_test = vectorize(feature_dicts_t_final, feature_dicts_test)\n",
    "\n",
    "# model\n",
    "cat_final = CatBoostClassifier(max_depth=3, verbose = 0, random_state = 123)\n",
    "\n",
    "# fit\n",
    "cat_final.fit(X_train_final, y_train_final)\n",
    "\n",
    "# report the test score\n",
    "print(\"Final accuracy score on test_set: \", round(accuracy_score(y_test, cat_final.predict(X_test)), 2))\n",
    "print(f\"Final feature used: {new_feature_list}\")"
   ]
  },
  {
   "cell_type": "markdown",
   "metadata": {},
   "source": [
    "## Final Score "
   ]
  },
  {
   "cell_type": "markdown",
   "metadata": {},
   "source": [
    "| Model | Test Score | \n",
    "|-------|------------|\n",
    "| Decision Tree | 0.71 |\n",
    "| Random Forest | 0.71 |\n",
    "| Light GBM | 0.7 |\n",
    "| Catboost | 0.69 | "
   ]
  }
 ],
 "metadata": {
  "kernelspec": {
   "display_name": "Python 3",
   "language": "python",
   "name": "python3"
  },
  "language_info": {
   "codemirror_mode": {
    "name": "ipython",
    "version": 3
   },
   "file_extension": ".py",
   "mimetype": "text/x-python",
   "name": "python",
   "nbconvert_exporter": "python",
   "pygments_lexer": "ipython3",
   "version": "3.8.3"
  }
 },
 "nbformat": 4,
 "nbformat_minor": 4
}
